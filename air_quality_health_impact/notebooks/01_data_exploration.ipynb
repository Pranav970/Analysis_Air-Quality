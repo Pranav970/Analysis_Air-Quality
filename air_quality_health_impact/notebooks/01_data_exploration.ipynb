# ---
# jupyter:
#   jupytext:
#     text_representation:
#       extension: .py
#       format_name: percent
#       format_version: '1.3'
#       jupytext_version: 1.14.7
#   kernelspec:
#     display_name: Python 3 (ipykernel)
#     language: python
#     name: python3
# ---

# %% [markdown]
# # Data Exploration

# %%
import pandas as pd
import matplotlib.pyplot as plt
import seaborn as sns
from src.utils import load_data

# %%
# Load the processed data
df = load_data("../data/processed/combined_data.csv")

# %%
df.head()

# %%
df.info()

# %%
#Descriptive statistics
df.describe()

# %%
# Histograms
df.hist(figsize=(12, 8))
plt.suptitle("Histograms of Variables")
plt.tight_layout()
plt.show()

# %%
# Correlation matrix
corr_matrix = df.corr()
plt.figure(figsize=(8, 6))
sns.heatmap(corr_matrix, annot=True, cmap="coolwarm", fmt=".2f")
plt.title("Correlation Matrix")
plt.show()

# %% [markdown]
# From the correlation matrix, we will be able to observe and find out how the pollution parameters are related to the public health.

# %%
# Time series plots
plt.figure(figsize=(14, 6))
plt.plot(df['date'], df['PM2.5'], label='PM2.5')
plt.plot(df['date'], df['hospital_admissions'], label='Hospital Admissions')
plt.xlabel('Date')
plt.ylabel('Values')
plt.title('Time Series of PM2.5 and Hospital Admissions')
plt.legend()
plt.show()

# %%
# Scatter plots (PM2.5 vs. hospital admissions)
plt.figure(figsize=(8, 6))
sns.scatterplot(x='PM2.5', y='hospital_admissions', data=df)
plt.title('PM2.5 vs. Hospital Admissions')
plt.show()

# %% [markdown]
# We can use pairplot for observing all parameters and their relationships.

# %%
sns.pairplot(df)

# %% [markdown]
# Now we can perform other visualization and also perform some other analysis for getting the breif insights of the data.

# %%
