# ---
# jupyter:
#   jupytext:
#     text_representation:
#       extension: .py
#       format_name: percent
#       format_version: '1.3'
#       jupytext_version: 1.14.7
#   kernelspec:
#     display_name: Python 3 (ipykernel)
#     language: python
#     name: python3
# ---

# %% [markdown]
# # Correlation Analysis and Regression

# %%
import pandas as pd
import matplotlib.pyplot as plt
import seaborn as sns
from src.utils import load_data
from sklearn.linear_model import LinearRegression
from sklearn.model_selection import train_test_split
from sklearn.metrics import mean_squared_error, r2_score

# %%
# Load the processed data
df = load_data("../data/processed/combined_data.csv")
df['date'] = pd.to_datetime(df['date'])  # Ensure 'date' is datetime
df.head()

# %%
# Prepare the data
X = df[['PM2.5', 'NO2', 'O3']]  # Independent variables
y = df['hospital_admissions']    # Dependent variable

# Split data into training and testing sets
X_train, X_test, y_train, y_test = train_test_split(X, y, test_size=0.2, random_state=42)  # 80/20 split

# %%
# Create and train the model
model = LinearRegression()
model.fit(X_train, y_train)

# %%
# Make predictions
y_pred = model.predict(X_test)

# %%
# Evaluate the model
mse = mean_squared_error(y_test, y_pred)
r2 = r2_score(y_test, y_pred)

print(f"Mean Squared Error: {mse:.2f}")
print(f"R-squared: {r2:.2f}")

# %%
# Display coefficients
print("Coefficients:", model.coef_)
print("Intercept:", model.intercept_)

# %%
# Feature importance (based on coefficients)
feature_importance = pd.Series(model.coef_, index=X.columns)
feature_importance.sort_values(ascending=False).plot(kind='bar')
plt.title("Feature Importance")
plt.show()

# %% [markdown]
# The above graph will show us the feature importance.

# %%
#Lets plot the residual plots
residuals = y_test - y_pred
plt.scatter(y_pred, residuals)
plt.axhline(y=0, color='r', linestyle='--')
plt.xlabel("Predicted Values")
plt.ylabel("Residuals")
plt.title("Residual Plot")
plt.show()

# %% [markdown]
# If the residual plot shows a random pattern, it indicates a good fit for a linear model. Otherwise, a non-linear model might be more appropriate.

# %%
# Create a scatter plot of actual vs. predicted values
plt.scatter(y_test, y_pred, alpha=0.5)  # alpha adds transparency
plt.plot([y_test.min(), y_test.max()], [y_test.min(), y_test.max()], 'k--', lw=2)  # Add a diagonal line
plt.xlabel('Actual')
plt.ylabel('Predicted')
plt.title('Actual vs. Predicted Hospital Admissions')
plt.show()

# %% [markdown]
# The closer the points are to the diagonal line, the better the model's predictions.

# %%
